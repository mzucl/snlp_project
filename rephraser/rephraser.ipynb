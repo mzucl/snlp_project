{
 "cells": [
  {
   "cell_type": "code",
   "execution_count": 74,
   "metadata": {},
   "outputs": [],
   "source": [
    "import ollama\n",
    "import json\n",
    "import os\n",
    "from tqdm import tqdm"
   ]
  },
  {
   "cell_type": "markdown",
   "metadata": {},
   "source": [
    "## Preprocess json file if it does not exist"
   ]
  },
  {
   "cell_type": "code",
   "execution_count": 75,
   "metadata": {},
   "outputs": [],
   "source": [
    "origninal_file_name = 'combined_max_short.json'\n",
    "file_name = \"new_combined_max_short.json\"\n",
    "file_exists = os.path.exists(f\"./{file_name}\")"
   ]
  },
  {
   "cell_type": "code",
   "execution_count": 76,
   "metadata": {},
   "outputs": [],
   "source": [
    "if not file_exists:\n",
    "    with open(origninal_file_name, 'r') as file:\n",
    "        data = file.read()\n",
    "    new_data = data.replace(\"}}\\n\", \"}},\\n\")\n",
    "    new_data = \"[\" + new_data\n",
    "    new_data = new_data[:-2] + \"]\"\n",
    "    with open(file_name, \"w\") as text_file:\n",
    "        text_file.write(new_data)"
   ]
  },
  {
   "cell_type": "markdown",
   "metadata": {},
   "source": [
    "## Read json file"
   ]
  },
  {
   "cell_type": "code",
   "execution_count": 77,
   "metadata": {},
   "outputs": [],
   "source": [
    "with open(file_name) as f:\n",
    "    text_collection = json.load(f)\n",
    "n = len(text_collection)"
   ]
  },
  {
   "cell_type": "markdown",
   "metadata": {},
   "source": [
    "## Rephrasing"
   ]
  },
  {
   "cell_type": "markdown",
   "metadata": {},
   "source": [
    "### Rephrasing styles"
   ]
  },
  {
   "cell_type": "code",
   "execution_count": 102,
   "metadata": {},
   "outputs": [],
   "source": [
    "easy_style = \"For the following paragraph give me only one paraphrase of the same using a very small vocabulary and extremely simple sentences that a toddler will understand:\\n\"\n",
    "medium_style = \"For the following paragraph give me only one diverse paraphrase of the same in high quality English language as in sentences on Wikipedia:\\n\"\n",
    "hard_style = \"For the following paragraph give me only one paraphrase of the same using very terse and abstruse language that only an erudite scholar will understand. Replace simple words and phrases with rare and complex ones:\\n\""
   ]
  },
  {
   "cell_type": "markdown",
   "metadata": {},
   "source": [
    "### Set current style"
   ]
  },
  {
   "cell_type": "code",
   "execution_count": 103,
   "metadata": {},
   "outputs": [],
   "source": [
    "styles = {'medium_rephrase': medium_style}"
   ]
  },
  {
   "cell_type": "markdown",
   "metadata": {},
   "source": [
    "### Sort texts by length"
   ]
  },
  {
   "cell_type": "code",
   "execution_count": 80,
   "metadata": {},
   "outputs": [
    {
     "name": "stderr",
     "output_type": "stream",
     "text": [
      "100%|██████████| 213/213 [00:00<00:00, 255326.31it/s]\n"
     ]
    }
   ],
   "source": [
    "for i in tqdm(range(n)):\n",
    "    l = len(text_collection[i]['text'])\n",
    "    text_collection[i]['length'] = l"
   ]
  },
  {
   "cell_type": "code",
   "execution_count": 81,
   "metadata": {},
   "outputs": [],
   "source": [
    "text_collection_sorted = sorted(text_collection, key=lambda d: d['length'])"
   ]
  },
  {
   "cell_type": "markdown",
   "metadata": {},
   "source": [
    "### Do rephrase"
   ]
  },
  {
   "cell_type": "code",
   "execution_count": 106,
   "metadata": {},
   "outputs": [
    {
     "name": "stderr",
     "output_type": "stream",
     "text": [
      "100%|██████████| 2/2 [01:37<00:00, 48.78s/it]\n"
     ]
    }
   ],
   "source": [
    "for style_desc in styles:\n",
    "    style = styles[style_desc]\n",
    "    for i in tqdm(range(n)):\n",
    "        response = ollama.chat(model='mistral:instruct', messages=[\n",
    "            {\n",
    "                'role': 'user',\n",
    "                'content': f\"Paragraph: {text_collection_sorted[i]['text']}\\n{style}\",\n",
    "            }\n",
    "        ])\n",
    "        rephrasing = response['message']['content']\n",
    "        rephrasing = rephrasing.replace(\"\\n\\n\", \"\\n\")\n",
    "        text_collection_sorted[i][style_desc] = rephrasing"
   ]
  },
  {
   "cell_type": "markdown",
   "metadata": {},
   "source": [
    "### Save rephrase"
   ]
  },
  {
   "cell_type": "code",
   "execution_count": 113,
   "metadata": {},
   "outputs": [],
   "source": [
    "with open(f'./rephrased_{origninal_file_name}.json', 'w') as fout:\n",
    "    json.dump(text_collection_sorted , fout, indent=2)"
   ]
  }
 ],
 "metadata": {
  "kernelspec": {
   "display_name": "myenv",
   "language": "python",
   "name": "python3"
  },
  "language_info": {
   "codemirror_mode": {
    "name": "ipython",
    "version": 3
   },
   "file_extension": ".py",
   "mimetype": "text/x-python",
   "name": "python",
   "nbconvert_exporter": "python",
   "pygments_lexer": "ipython3",
   "version": "3.9.18"
  }
 },
 "nbformat": 4,
 "nbformat_minor": 2
}
